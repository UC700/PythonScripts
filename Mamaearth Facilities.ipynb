{
 "cells": [
  {
   "cell_type": "code",
   "execution_count": 3,
   "id": "c57e3678-5d7f-402b-8345-67cbd12a8d38",
   "metadata": {
    "tags": []
   },
   "outputs": [
    {
     "name": "stdout",
     "output_type": "stream",
     "text": [
      "B524600\n",
      "G216200\n"
     ]
    }
   ],
   "source": [
    "def soundex_generator(token):\n",
    "   \n",
    "    # Convert the word to upper \n",
    "    # case for uniformity\n",
    "    token = token.upper()\n",
    " \n",
    "    soundex = \"\"\n",
    " \n",
    "    # Retain the First Letter\n",
    "    soundex += token[0]\n",
    " \n",
    "    # Create a dictionary which maps \n",
    "    # letters to respective soundex\n",
    "    # codes. Vowels and 'H', 'W' and\n",
    "    # 'Y' will be represented by '.'\n",
    "    dictionary = {\"BFPV\": \"1\", \"CGJKQSXZ\": \"2\",\n",
    "                  \"DT\": \"3\",\n",
    "                  \"L\": \"4\", \"MN\": \"5\", \"R\": \"6\",\n",
    "                  \"AEIOUHWY\": \".\"}\n",
    " \n",
    "    # Enode as per the dictionary\n",
    "    for char in token[1:]:\n",
    "        for key in dictionary.keys():\n",
    "            if char in key:\n",
    "                code = dictionary[key]\n",
    "                if code != '.':\n",
    "                    if code != soundex[-1]:\n",
    "                        soundex += code\n",
    " \n",
    "    # Trim or Pad to make Soundex a\n",
    "    # 4-character code\n",
    "    soundex = soundex[:7].ljust(7, \"0\")\n",
    " \n",
    "    return soundex\n",
    " "
   ]
  },
  {
   "cell_type": "code",
   "execution_count": 40,
   "id": "6b4d7164-2c00-4809-ada8-f6eb5d3c4e98",
   "metadata": {
    "tags": []
   },
   "outputs": [],
   "source": [
    "import pandas as pd\n",
    "\n",
    "file_path = 'ME_query_2024_01_16.xlsx'\n",
    "\n",
    "df = pd.read_excel(file_path)\n",
    "df['address'] = df['address'].astype(str)\n",
    "df = df[df['enabled'] == 1]\n",
    "df_nonfba = df[df['source_code'].isnull()]\n",
    "df_nonfba['address_information'] = df_nonfba['address'].apply(soundex_generator)\n",
    "df_nonfba.drop_duplicates(subset = 'address_information', keep = 'first' , inplace = True)"
   ]
  },
  {
   "cell_type": "code",
   "execution_count": 47,
   "id": "2dd8d0e6-0138-4b38-9eb9-4d5e5b1cb6e5",
   "metadata": {
    "tags": []
   },
   "outputs": [],
   "source": [
    "df_nonfba.to_excel('mamaearth_output.xlsx', index=False)"
   ]
  }
 ],
 "metadata": {
  "kernelspec": {
   "display_name": "Python 3 (ipykernel)",
   "language": "python",
   "name": "python3"
  },
  "language_info": {
   "codemirror_mode": {
    "name": "ipython",
    "version": 3
   },
   "file_extension": ".py",
   "mimetype": "text/x-python",
   "name": "python",
   "nbconvert_exporter": "python",
   "pygments_lexer": "ipython3",
   "version": "3.11.3"
  }
 },
 "nbformat": 4,
 "nbformat_minor": 5
}
